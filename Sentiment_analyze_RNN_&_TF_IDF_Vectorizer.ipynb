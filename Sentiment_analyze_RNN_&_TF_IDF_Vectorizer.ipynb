{
  "metadata": {
    "kernelspec": {
      "language": "python",
      "display_name": "Python 3",
      "name": "python3"
    },
    "language_info": {
      "name": "python",
      "version": "3.10.13",
      "mimetype": "text/x-python",
      "codemirror_mode": {
        "name": "ipython",
        "version": 3
      },
      "pygments_lexer": "ipython3",
      "nbconvert_exporter": "python",
      "file_extension": ".py"
    },
    "kaggle": {
      "accelerator": "gpu",
      "dataSources": [
        {
          "sourceId": 320111,
          "sourceType": "datasetVersion",
          "datasetId": 134715
        }
      ],
      "dockerImageVersionId": 30746,
      "isInternetEnabled": true,
      "language": "python",
      "sourceType": "notebook",
      "isGpuEnabled": true
    },
    "colab": {
      "name": "Sentiment analyze -RNN & TF-IDF Vectorizer",
      "provenance": []
    }
  },
  "nbformat_minor": 0,
  "nbformat": 4,
  "cells": [
    {
      "source": [
        "from google.colab import files\n",
        "uploaded = files.upload()"
      ],
      "metadata": {
        "id": "xCInA7FisEFp"
      },
      "cell_type": "code",
      "outputs": [],
      "execution_count": null
    },
    {
      "cell_type": "code",
      "source": [
        "import numpy as np\n",
        "import pandas as pd\n",
        "import torch\n",
        "import torch.nn as nn\n",
        "import torch.nn.functional as F\n",
        "from nltk.corpus import stopwords\n",
        "from collections import Counter\n",
        "import string\n",
        "import re\n",
        "import seaborn as sns\n",
        "from nltk.tokenize import word_tokenize\n",
        "from tqdm import tqdm\n",
        "from nltk.stem import PorterStemmer\n",
        "import matplotlib.pyplot as plt\n",
        "from torch.utils.data import TensorDataset, DataLoader\n",
        "from sklearn.model_selection import train_test_split\n",
        "from torch.utils.data import DataLoader,TensorDataset\n",
        "import torch.optim as optim"
      ],
      "metadata": {
        "execution": {
          "iopub.status.busy": "2024-10-30T08:53:03.436931Z",
          "iopub.execute_input": "2024-10-30T08:53:03.43721Z",
          "iopub.status.idle": "2024-10-30T08:53:12.491013Z",
          "shell.execute_reply.started": "2024-10-30T08:53:03.437184Z",
          "shell.execute_reply": "2024-10-30T08:53:12.490056Z"
        },
        "trusted": true,
        "id": "gF4DeN77sEFt"
      },
      "execution_count": null,
      "outputs": []
    },
    {
      "cell_type": "code",
      "source": [
        "is_cuda = torch.cuda.is_available()\n",
        "\n",
        "if is_cuda:\n",
        "    device = torch.device(\"cuda\")\n",
        "    print(\"GPU is available\")\n",
        "else:\n",
        "    device = torch.device(\"cpu\")\n",
        "    print(\"GPU not available, CPU used\")"
      ],
      "metadata": {
        "execution": {
          "iopub.status.busy": "2024-10-30T08:53:12.492921Z",
          "iopub.execute_input": "2024-10-30T08:53:12.493473Z",
          "iopub.status.idle": "2024-10-30T08:53:12.527443Z",
          "shell.execute_reply.started": "2024-10-30T08:53:12.49344Z",
          "shell.execute_reply": "2024-10-30T08:53:12.526593Z"
        },
        "trusted": true,
        "id": "XiPeGwwhsEFt"
      },
      "execution_count": null,
      "outputs": []
    },
    {
      "cell_type": "markdown",
      "source": [
        "# Load the dataset"
      ],
      "metadata": {
        "id": "FtTpXb8asEFu"
      }
    },
    {
      "cell_type": "code",
      "source": [
        "df=pd.read_csv(\"IMDB Dataset.csv\")"
      ],
      "metadata": {
        "execution": {
          "iopub.status.busy": "2024-10-30T08:53:12.528395Z",
          "iopub.execute_input": "2024-10-30T08:53:12.528702Z",
          "iopub.status.idle": "2024-10-30T08:53:13.997053Z",
          "shell.execute_reply.started": "2024-10-30T08:53:12.528673Z",
          "shell.execute_reply": "2024-10-30T08:53:13.996127Z"
        },
        "trusted": true,
        "id": "aHjPb-a9sEFu"
      },
      "execution_count": null,
      "outputs": []
    },
    {
      "cell_type": "code",
      "source": [
        "df=df.sample(frac =.10)"
      ],
      "metadata": {
        "execution": {
          "iopub.status.busy": "2024-10-30T08:53:13.998934Z",
          "iopub.execute_input": "2024-10-30T08:53:13.999213Z",
          "iopub.status.idle": "2024-10-30T08:53:14.015419Z",
          "shell.execute_reply.started": "2024-10-30T08:53:13.999188Z",
          "shell.execute_reply": "2024-10-30T08:53:14.014738Z"
        },
        "trusted": true,
        "id": "3jO1DVsRsEFv"
      },
      "execution_count": null,
      "outputs": []
    },
    {
      "cell_type": "code",
      "source": [
        "df.head(2)"
      ],
      "metadata": {
        "execution": {
          "iopub.status.busy": "2024-10-30T08:53:14.017527Z",
          "iopub.execute_input": "2024-10-30T08:53:14.017807Z",
          "iopub.status.idle": "2024-10-30T08:53:14.039741Z",
          "shell.execute_reply.started": "2024-10-30T08:53:14.017785Z",
          "shell.execute_reply": "2024-10-30T08:53:14.038906Z"
        },
        "trusted": true,
        "id": "wvKEhM6OsEFv"
      },
      "execution_count": null,
      "outputs": []
    },
    {
      "cell_type": "markdown",
      "source": [
        "# Data Preprocessing"
      ],
      "metadata": {
        "id": "yXxv6wrTsEFw"
      }
    },
    {
      "cell_type": "code",
      "source": [
        "#Lower Case\n",
        "df[\"review\"]=df[\"review\"].str.lower()"
      ],
      "metadata": {
        "execution": {
          "iopub.status.busy": "2024-10-30T08:53:14.040757Z",
          "iopub.execute_input": "2024-10-30T08:53:14.041076Z",
          "iopub.status.idle": "2024-10-30T08:53:14.06193Z",
          "shell.execute_reply.started": "2024-10-30T08:53:14.041045Z",
          "shell.execute_reply": "2024-10-30T08:53:14.061056Z"
        },
        "trusted": true,
        "id": "tBT5svpusEFw"
      },
      "execution_count": null,
      "outputs": []
    },
    {
      "cell_type": "code",
      "source": [
        "# REMOVE URL's.\n",
        "import re\n",
        "def remove_urls(text):\n",
        "    return re.sub(r'http\\S+', '', text)"
      ],
      "metadata": {
        "execution": {
          "iopub.status.busy": "2024-10-30T08:53:14.063123Z",
          "iopub.execute_input": "2024-10-30T08:53:14.063524Z",
          "iopub.status.idle": "2024-10-30T08:53:14.070675Z",
          "shell.execute_reply.started": "2024-10-30T08:53:14.063492Z",
          "shell.execute_reply": "2024-10-30T08:53:14.069819Z"
        },
        "trusted": true,
        "id": "h9frL1a0sEFw"
      },
      "execution_count": null,
      "outputs": []
    },
    {
      "cell_type": "code",
      "source": [
        "df[\"review\"] = df[\"review\"].apply(remove_urls)"
      ],
      "metadata": {
        "execution": {
          "iopub.status.busy": "2024-10-30T08:53:14.071686Z",
          "iopub.execute_input": "2024-10-30T08:53:14.071946Z",
          "iopub.status.idle": "2024-10-30T08:53:14.093412Z",
          "shell.execute_reply.started": "2024-10-30T08:53:14.071923Z",
          "shell.execute_reply": "2024-10-30T08:53:14.092469Z"
        },
        "trusted": true,
        "id": "cJ-UOgpgsEFw"
      },
      "execution_count": null,
      "outputs": []
    },
    {
      "cell_type": "code",
      "source": [
        "#REMOVE PUNCTUATIONS AND EMOJI\n",
        "import re\n",
        "\n",
        "def remove_punctuations(text):\n",
        "    text=re.sub(r\"[^A-Za-z0-9\\s]\",\"\",text)\n",
        "    return text"
      ],
      "metadata": {
        "execution": {
          "iopub.status.busy": "2024-10-30T08:53:14.09445Z",
          "iopub.execute_input": "2024-10-30T08:53:14.094761Z",
          "iopub.status.idle": "2024-10-30T08:53:14.101623Z",
          "shell.execute_reply.started": "2024-10-30T08:53:14.094731Z",
          "shell.execute_reply": "2024-10-30T08:53:14.100914Z"
        },
        "trusted": true,
        "id": "V1SklZYdsEFx"
      },
      "execution_count": null,
      "outputs": []
    },
    {
      "cell_type": "code",
      "source": [
        "df[\"review\"] = df[\"review\"].apply(remove_punctuations)"
      ],
      "metadata": {
        "execution": {
          "iopub.status.busy": "2024-10-30T08:53:14.105947Z",
          "iopub.execute_input": "2024-10-30T08:53:14.106268Z",
          "iopub.status.idle": "2024-10-30T08:53:14.339123Z",
          "shell.execute_reply.started": "2024-10-30T08:53:14.106246Z",
          "shell.execute_reply": "2024-10-30T08:53:14.338451Z"
        },
        "trusted": true,
        "id": "VAW0fWKXsEFx"
      },
      "execution_count": null,
      "outputs": []
    },
    {
      "cell_type": "code",
      "source": [
        "#REMOVE HTML\n",
        "import re\n",
        "\n",
        "def remove_html(text):\n",
        "    text=re.sub(r'<.*?>', '', text)\n",
        "    return text"
      ],
      "metadata": {
        "execution": {
          "iopub.status.busy": "2024-10-30T08:53:14.340189Z",
          "iopub.execute_input": "2024-10-30T08:53:14.340467Z",
          "iopub.status.idle": "2024-10-30T08:53:14.34499Z",
          "shell.execute_reply.started": "2024-10-30T08:53:14.340443Z",
          "shell.execute_reply": "2024-10-30T08:53:14.344039Z"
        },
        "trusted": true,
        "id": "Lzk1dGmUsEFx"
      },
      "execution_count": null,
      "outputs": []
    },
    {
      "cell_type": "code",
      "source": [
        "df[\"review\"] = df[\"review\"].apply(remove_html)"
      ],
      "metadata": {
        "execution": {
          "iopub.status.busy": "2024-10-30T08:53:14.34616Z",
          "iopub.execute_input": "2024-10-30T08:53:14.34675Z",
          "iopub.status.idle": "2024-10-30T08:53:14.363561Z",
          "shell.execute_reply.started": "2024-10-30T08:53:14.346723Z",
          "shell.execute_reply": "2024-10-30T08:53:14.362699Z"
        },
        "trusted": true,
        "id": "SWzfWsJEsEFx"
      },
      "execution_count": null,
      "outputs": []
    },
    {
      "cell_type": "code",
      "source": [
        "#REMOVE STOPWORDS\n",
        "\n",
        "def remove_stopword(text):\n",
        "    stop_words = stopwords.words('english')  # Specify 'english' for English stopwords\n",
        "    temp_text = word_tokenize(text)\n",
        "\n",
        "    for word in temp_text:\n",
        "        if word in stop_words:\n",
        "            text=text.replace(word,\"\")\n",
        "    return text"
      ],
      "metadata": {
        "execution": {
          "iopub.status.busy": "2024-10-30T08:53:14.364771Z",
          "iopub.execute_input": "2024-10-30T08:53:14.365117Z",
          "iopub.status.idle": "2024-10-30T08:53:14.372295Z",
          "shell.execute_reply.started": "2024-10-30T08:53:14.365093Z",
          "shell.execute_reply": "2024-10-30T08:53:14.371445Z"
        },
        "trusted": true,
        "id": "0hnoP6xWsEFx"
      },
      "execution_count": null,
      "outputs": []
    },
    {
      "cell_type": "code",
      "source": [
        "df[\"review\"] = df[\"review\"].apply(remove_stopword)"
      ],
      "metadata": {
        "execution": {
          "iopub.status.busy": "2024-10-30T08:53:14.373352Z",
          "iopub.execute_input": "2024-10-30T08:53:14.373693Z",
          "iopub.status.idle": "2024-10-30T08:53:26.252937Z",
          "shell.execute_reply.started": "2024-10-30T08:53:14.373669Z",
          "shell.execute_reply": "2024-10-30T08:53:26.252138Z"
        },
        "trusted": true,
        "id": "O7bUtwcnsEFx"
      },
      "execution_count": null,
      "outputs": []
    },
    {
      "cell_type": "code",
      "source": [
        "\n",
        "def Stemming(text):\n",
        "    ps = PorterStemmer()\n",
        "    tokens = word_tokenize(text)\n",
        "    stemmed_words = []\n",
        "    for token in tokens:\n",
        "        stemmed_token = ps.stem(token)\n",
        "        stemmed_words.append(stemmed_token)\n",
        "    return ' '.join(stemmed_words)"
      ],
      "metadata": {
        "execution": {
          "iopub.status.busy": "2024-10-30T08:53:26.254273Z",
          "iopub.execute_input": "2024-10-30T08:53:26.254722Z",
          "iopub.status.idle": "2024-10-30T08:53:26.260097Z",
          "shell.execute_reply.started": "2024-10-30T08:53:26.254688Z",
          "shell.execute_reply": "2024-10-30T08:53:26.25928Z"
        },
        "trusted": true,
        "id": "vnC-AN3XsEFx"
      },
      "execution_count": null,
      "outputs": []
    },
    {
      "cell_type": "code",
      "source": [
        "df[\"review\"] = df[\"review\"].apply(Stemming)"
      ],
      "metadata": {
        "execution": {
          "iopub.status.busy": "2024-10-30T08:53:26.261224Z",
          "iopub.execute_input": "2024-10-30T08:53:26.261478Z",
          "iopub.status.idle": "2024-10-30T08:53:50.093705Z",
          "shell.execute_reply.started": "2024-10-30T08:53:26.261455Z",
          "shell.execute_reply": "2024-10-30T08:53:50.092906Z"
        },
        "trusted": true,
        "id": "8EQL1U1bsEFy"
      },
      "execution_count": null,
      "outputs": []
    },
    {
      "cell_type": "code",
      "source": [
        "df.head(3)"
      ],
      "metadata": {
        "execution": {
          "iopub.status.busy": "2024-10-30T08:53:50.095272Z",
          "iopub.execute_input": "2024-10-30T08:53:50.095642Z",
          "iopub.status.idle": "2024-10-30T08:53:50.106422Z",
          "shell.execute_reply.started": "2024-10-30T08:53:50.095608Z",
          "shell.execute_reply": "2024-10-30T08:53:50.105577Z"
        },
        "trusted": true,
        "id": "tMbNEk47sEFy"
      },
      "execution_count": null,
      "outputs": []
    },
    {
      "cell_type": "markdown",
      "source": [
        "# **Changing the Target values to categorical value**"
      ],
      "metadata": {
        "id": "f8WFPTalsEFy"
      }
    },
    {
      "cell_type": "code",
      "source": [
        "df[\"sentiment\"].replace(\"positive\",0,inplace=True)\n",
        "df[\"sentiment\"].replace(\"negative\",1,inplace=True)"
      ],
      "metadata": {
        "execution": {
          "iopub.status.busy": "2024-10-30T08:53:50.107418Z",
          "iopub.execute_input": "2024-10-30T08:53:50.107686Z",
          "iopub.status.idle": "2024-10-30T08:53:50.124351Z",
          "shell.execute_reply.started": "2024-10-30T08:53:50.10766Z",
          "shell.execute_reply": "2024-10-30T08:53:50.123394Z"
        },
        "trusted": true,
        "id": "w-1ujgopsEFy"
      },
      "execution_count": null,
      "outputs": []
    },
    {
      "cell_type": "code",
      "source": [
        "Y=df[\"sentiment\"]"
      ],
      "metadata": {
        "execution": {
          "iopub.status.busy": "2024-10-30T08:53:50.125626Z",
          "iopub.execute_input": "2024-10-30T08:53:50.125987Z",
          "iopub.status.idle": "2024-10-30T08:53:50.134473Z",
          "shell.execute_reply.started": "2024-10-30T08:53:50.125958Z",
          "shell.execute_reply": "2024-10-30T08:53:50.133586Z"
        },
        "trusted": true,
        "id": "IAfObzRLsEFy"
      },
      "execution_count": null,
      "outputs": []
    },
    {
      "cell_type": "markdown",
      "source": [
        "# **Text Vectorization**"
      ],
      "metadata": {
        "id": "_PKmIsaHsEFy"
      }
    },
    {
      "cell_type": "code",
      "source": [
        "from sklearn.feature_extraction.text import TfidfVectorizer\n",
        "tf = TfidfVectorizer()\n",
        "X =tf.fit_transform(df['review']).toarray()"
      ],
      "metadata": {
        "execution": {
          "iopub.status.busy": "2024-10-30T08:53:50.135908Z",
          "iopub.execute_input": "2024-10-30T08:53:50.136413Z",
          "iopub.status.idle": "2024-10-30T08:53:52.318811Z",
          "shell.execute_reply.started": "2024-10-30T08:53:50.136381Z",
          "shell.execute_reply": "2024-10-30T08:53:52.317573Z"
        },
        "trusted": true,
        "id": "qpJwxxd1sEFy"
      },
      "execution_count": null,
      "outputs": []
    },
    {
      "cell_type": "markdown",
      "source": [
        "# **Split the dataset**"
      ],
      "metadata": {
        "id": "bvleukCWsEFy"
      }
    },
    {
      "cell_type": "code",
      "source": [
        "from sklearn.model_selection import train_test_split\n",
        "X_train,X_test,Y_train,Y_test=train_test_split(X,Y,test_size=0.20,random_state=0)"
      ],
      "metadata": {
        "execution": {
          "iopub.status.busy": "2024-10-30T08:53:52.320105Z",
          "iopub.execute_input": "2024-10-30T08:53:52.3205Z",
          "iopub.status.idle": "2024-10-30T08:53:53.174058Z",
          "shell.execute_reply.started": "2024-10-30T08:53:52.320453Z",
          "shell.execute_reply": "2024-10-30T08:53:53.173013Z"
        },
        "trusted": true,
        "id": "lSGvSo2HsEFy"
      },
      "execution_count": null,
      "outputs": []
    },
    {
      "cell_type": "code",
      "source": [
        "X_train.shape"
      ],
      "metadata": {
        "execution": {
          "iopub.status.busy": "2024-10-30T08:53:53.175485Z",
          "iopub.execute_input": "2024-10-30T08:53:53.176295Z",
          "iopub.status.idle": "2024-10-30T08:53:53.182521Z",
          "shell.execute_reply.started": "2024-10-30T08:53:53.176258Z",
          "shell.execute_reply": "2024-10-30T08:53:53.181581Z"
        },
        "trusted": true,
        "id": "trOQ1BQjsEFy"
      },
      "execution_count": null,
      "outputs": []
    },
    {
      "cell_type": "code",
      "source": [
        "shape=X_train.shape"
      ],
      "metadata": {
        "execution": {
          "iopub.status.busy": "2024-10-30T08:53:53.18373Z",
          "iopub.execute_input": "2024-10-30T08:53:53.184003Z",
          "iopub.status.idle": "2024-10-30T08:53:53.191145Z",
          "shell.execute_reply.started": "2024-10-30T08:53:53.183979Z",
          "shell.execute_reply": "2024-10-30T08:53:53.190233Z"
        },
        "trusted": true,
        "id": "h1cLd3o5sEFz"
      },
      "execution_count": null,
      "outputs": []
    },
    {
      "cell_type": "code",
      "source": [
        "shape[1]"
      ],
      "metadata": {
        "execution": {
          "iopub.status.busy": "2024-10-30T08:53:53.192234Z",
          "iopub.execute_input": "2024-10-30T08:53:53.192569Z",
          "iopub.status.idle": "2024-10-30T08:53:53.201096Z",
          "shell.execute_reply.started": "2024-10-30T08:53:53.192525Z",
          "shell.execute_reply": "2024-10-30T08:53:53.200266Z"
        },
        "trusted": true,
        "id": "pkqn5gwosEFz"
      },
      "execution_count": null,
      "outputs": []
    },
    {
      "cell_type": "code",
      "source": [
        "X_test.shape"
      ],
      "metadata": {
        "execution": {
          "iopub.status.busy": "2024-10-30T08:53:53.202197Z",
          "iopub.execute_input": "2024-10-30T08:53:53.202788Z",
          "iopub.status.idle": "2024-10-30T08:53:53.211291Z",
          "shell.execute_reply.started": "2024-10-30T08:53:53.202749Z",
          "shell.execute_reply": "2024-10-30T08:53:53.210474Z"
        },
        "trusted": true,
        "id": "PYsbdlxHsEFz"
      },
      "execution_count": null,
      "outputs": []
    },
    {
      "cell_type": "code",
      "source": [
        "type(X_train)"
      ],
      "metadata": {
        "execution": {
          "iopub.status.busy": "2024-10-30T08:53:53.212306Z",
          "iopub.execute_input": "2024-10-30T08:53:53.212594Z",
          "iopub.status.idle": "2024-10-30T08:53:53.220656Z",
          "shell.execute_reply.started": "2024-10-30T08:53:53.212566Z",
          "shell.execute_reply": "2024-10-30T08:53:53.219783Z"
        },
        "trusted": true,
        "id": "8kminw3DsEFz"
      },
      "execution_count": null,
      "outputs": []
    },
    {
      "cell_type": "code",
      "source": [
        "type(Y_train)"
      ],
      "metadata": {
        "execution": {
          "iopub.status.busy": "2024-10-30T08:53:53.221833Z",
          "iopub.execute_input": "2024-10-30T08:53:53.222315Z",
          "iopub.status.idle": "2024-10-30T08:53:53.229828Z",
          "shell.execute_reply.started": "2024-10-30T08:53:53.222285Z",
          "shell.execute_reply": "2024-10-30T08:53:53.228925Z"
        },
        "trusted": true,
        "id": "yFGWCLw2sEFz"
      },
      "execution_count": null,
      "outputs": []
    },
    {
      "cell_type": "code",
      "source": [
        "Y_train = Y_train.to_numpy()\n",
        "Y_test = Y_test.to_numpy()"
      ],
      "metadata": {
        "execution": {
          "iopub.status.busy": "2024-10-30T08:53:53.23531Z",
          "iopub.execute_input": "2024-10-30T08:53:53.235599Z",
          "iopub.status.idle": "2024-10-30T08:53:53.239576Z",
          "shell.execute_reply.started": "2024-10-30T08:53:53.235574Z",
          "shell.execute_reply": "2024-10-30T08:53:53.238674Z"
        },
        "trusted": true,
        "id": "I3KU6fSusEFz"
      },
      "execution_count": null,
      "outputs": []
    },
    {
      "cell_type": "code",
      "source": [
        "X_train.ndim"
      ],
      "metadata": {
        "execution": {
          "iopub.status.busy": "2024-10-30T08:53:53.240732Z",
          "iopub.execute_input": "2024-10-30T08:53:53.241066Z",
          "iopub.status.idle": "2024-10-30T08:53:53.249071Z",
          "shell.execute_reply.started": "2024-10-30T08:53:53.241036Z",
          "shell.execute_reply": "2024-10-30T08:53:53.248169Z"
        },
        "trusted": true,
        "id": "2ew0cf_1sEFz"
      },
      "execution_count": null,
      "outputs": []
    },
    {
      "cell_type": "markdown",
      "source": [
        "# **Create Tensor Datasets**"
      ],
      "metadata": {
        "id": "lBczX4Y6sEF0"
      }
    },
    {
      "cell_type": "code",
      "source": [
        "train_set = TensorDataset(torch.from_numpy(X_train).float(), torch.from_numpy(Y_train).float())\n",
        "test_set = TensorDataset(torch.from_numpy(X_test).float(), torch.from_numpy(Y_test).float())"
      ],
      "metadata": {
        "execution": {
          "iopub.status.busy": "2024-10-30T08:53:53.250202Z",
          "iopub.execute_input": "2024-10-30T08:53:53.250452Z",
          "iopub.status.idle": "2024-10-30T08:53:53.683341Z",
          "shell.execute_reply.started": "2024-10-30T08:53:53.25043Z",
          "shell.execute_reply": "2024-10-30T08:53:53.682501Z"
        },
        "trusted": true,
        "id": "jHCdWNs7sEF0"
      },
      "execution_count": null,
      "outputs": []
    },
    {
      "cell_type": "markdown",
      "source": [
        "# **Data Loader (Load Data in Batches)**"
      ],
      "metadata": {
        "id": "L_iDQeT8sEF0"
      }
    },
    {
      "cell_type": "code",
      "source": [
        "train_loader = DataLoader(train_set, shuffle=True, batch_size=64)\n",
        "test_loader = DataLoader(test_set, shuffle=True, batch_size=64)"
      ],
      "metadata": {
        "execution": {
          "iopub.status.busy": "2024-10-30T08:53:53.684656Z",
          "iopub.execute_input": "2024-10-30T08:53:53.685175Z",
          "iopub.status.idle": "2024-10-30T08:53:53.690355Z",
          "shell.execute_reply.started": "2024-10-30T08:53:53.685138Z",
          "shell.execute_reply": "2024-10-30T08:53:53.689429Z"
        },
        "trusted": true,
        "id": "On3Tpq_jsEF0"
      },
      "execution_count": null,
      "outputs": []
    },
    {
      "cell_type": "markdown",
      "source": [
        "# **RNN**"
      ],
      "metadata": {
        "id": "LQdxfxU9sEF1"
      }
    },
    {
      "cell_type": "code",
      "source": [
        "class Rnn(nn.Module):\n",
        "    def __init__(self, input_size, hidden_size, output_size, num_layers):\n",
        "        super().__init__()\n",
        "        self.num_layers = num_layers\n",
        "        self.hidden_size = hidden_size\n",
        "\n",
        "        # RNN Layer\n",
        "        self.rnn = nn.RNN(input_size, hidden_size, num_layers, batch_first=True)\n",
        "\n",
        "        # Fully Connected Layer\n",
        "        self.fc = nn.Linear(hidden_size, output_size)\n",
        "\n",
        "    def forward(self, x):\n",
        "        # Initialize hidden state with zeros\n",
        "        h0 = torch.zeros(self.num_layers, x.size(0), self.hidden_size).to(x.device)\n",
        "\n",
        "        # RNN forward pass\n",
        "        out, _ = self.rnn(x, h0)\n",
        "\n",
        "        # Pass through fully connected layer\n",
        "        out = self.fc(out[:, -1, :])\n",
        "        return out"
      ],
      "metadata": {
        "execution": {
          "iopub.status.busy": "2024-10-30T08:53:53.69176Z",
          "iopub.execute_input": "2024-10-30T08:53:53.692049Z",
          "iopub.status.idle": "2024-10-30T08:53:53.700594Z",
          "shell.execute_reply.started": "2024-10-30T08:53:53.692013Z",
          "shell.execute_reply": "2024-10-30T08:53:53.699891Z"
        },
        "trusted": true,
        "id": "mpeWWokusEF1"
      },
      "execution_count": null,
      "outputs": []
    },
    {
      "cell_type": "markdown",
      "source": [
        "# **Hyperparameters**"
      ],
      "metadata": {
        "id": "D0amyNBUsEF1"
      }
    },
    {
      "cell_type": "code",
      "source": [
        "input_dim = shape[1] # Updated to match TF-IDF feature size\n",
        "hidden_dim = 128\n",
        "output_dim = 1  # Binary classification (positive or negative sentiment)\n",
        "num_layers = 1\n",
        "num_epochs = 10\n",
        "batch_size = 64\n",
        "learning_rate = 0.001"
      ],
      "metadata": {
        "execution": {
          "iopub.status.busy": "2024-10-30T08:53:53.701524Z",
          "iopub.execute_input": "2024-10-30T08:53:53.701815Z",
          "iopub.status.idle": "2024-10-30T08:53:53.710685Z",
          "shell.execute_reply.started": "2024-10-30T08:53:53.701788Z",
          "shell.execute_reply": "2024-10-30T08:53:53.709997Z"
        },
        "trusted": true,
        "id": "NeUQVza5sEF1"
      },
      "execution_count": null,
      "outputs": []
    },
    {
      "cell_type": "markdown",
      "source": [
        "# **Initialize model, criterion, and optimizer**"
      ],
      "metadata": {
        "id": "M0JA3Kz7sEF1"
      }
    },
    {
      "cell_type": "code",
      "source": [
        "device = torch.device('cuda' if torch.cuda.is_available() else 'cpu')\n",
        "model = Rnn(input_dim, hidden_dim, output_dim, num_layers).to(device)\n",
        "criterion = nn.BCELoss()\n",
        "optimizer = optim.Adam(model.parameters(), lr=learning_rate)"
      ],
      "metadata": {
        "execution": {
          "iopub.status.busy": "2024-10-30T08:53:53.712978Z",
          "iopub.execute_input": "2024-10-30T08:53:53.713292Z",
          "iopub.status.idle": "2024-10-30T08:53:55.695454Z",
          "shell.execute_reply.started": "2024-10-30T08:53:53.713264Z",
          "shell.execute_reply": "2024-10-30T08:53:55.694478Z"
        },
        "trusted": true,
        "id": "7Zo_EBEdsEF1"
      },
      "execution_count": null,
      "outputs": []
    },
    {
      "cell_type": "markdown",
      "source": [
        "# **Training**"
      ],
      "metadata": {
        "id": "peM71MBtsEF1"
      }
    },
    {
      "cell_type": "code",
      "source": [
        "for epoch in range(num_epochs):\n",
        "    model.train()\n",
        "    for X_batch, Y_batch in train_loader:\n",
        "        X_batch, Y_batch = X_batch.to(device), Y_batch.to(device)\n",
        "\n",
        "        # Add an additional dimension for the sequence length\n",
        "        X_batch = X_batch.unsqueeze(1)\n",
        "\n",
        "        outputs = model(X_batch)\n",
        "\n",
        "        # Apply sigmoid activation to get probabilities\n",
        "        outputs = torch.sigmoid(outputs.squeeze())\n",
        "\n",
        "        # Compute the loss\n",
        "        loss = criterion(outputs, Y_batch)\n",
        "\n",
        "        optimizer.zero_grad()\n",
        "        loss.backward()\n",
        "        optimizer.step()\n",
        "\n",
        "    print(f'Epoch [{epoch+1}/{num_epochs}], Loss: {loss.item():.4f}')\n"
      ],
      "metadata": {
        "execution": {
          "iopub.status.busy": "2024-10-30T08:53:55.6966Z",
          "iopub.execute_input": "2024-10-30T08:53:55.697115Z",
          "iopub.status.idle": "2024-10-30T08:54:00.754225Z",
          "shell.execute_reply.started": "2024-10-30T08:53:55.697081Z",
          "shell.execute_reply": "2024-10-30T08:54:00.753275Z"
        },
        "trusted": true,
        "id": "4B-InRvAsEF2"
      },
      "execution_count": null,
      "outputs": []
    },
    {
      "cell_type": "markdown",
      "source": [
        "# **EVALUATION**"
      ],
      "metadata": {
        "id": "T-g9jTF_sEF2"
      }
    },
    {
      "cell_type": "code",
      "source": [
        "model.eval()\n",
        "with torch.no_grad():\n",
        "    correct = 0\n",
        "    total = 0\n",
        "    for X_batch, Y_batch in test_loader:\n",
        "        X_batch, Y_batch = X_batch.to(device), Y_batch.to(device)\n",
        "\n",
        "        # Add an additional dimension for the sequence length\n",
        "        X_batch = X_batch.unsqueeze(1)\n",
        "\n",
        "        outputs = model(X_batch)\n",
        "        predicted = (torch.sigmoid(outputs.squeeze()) > 0.5).float()\n",
        "        total += Y_batch.size(0)\n",
        "        correct += (predicted == Y_batch).sum().item()\n",
        "\n",
        "    accuracy = correct / total\n",
        "    print(f'Accuracy: {accuracy * 100:.2f}%')\n"
      ],
      "metadata": {
        "execution": {
          "iopub.status.busy": "2024-10-30T08:54:00.755405Z",
          "iopub.execute_input": "2024-10-30T08:54:00.755731Z",
          "iopub.status.idle": "2024-10-30T08:54:00.905413Z",
          "shell.execute_reply.started": "2024-10-30T08:54:00.755703Z",
          "shell.execute_reply": "2024-10-30T08:54:00.90446Z"
        },
        "trusted": true,
        "id": "TgALUrGosEF2"
      },
      "execution_count": null,
      "outputs": []
    }
  ]
}